{
 "cells": [
  {
   "cell_type": "code",
   "execution_count": 1,
   "metadata": {},
   "outputs": [
    {
     "name": "stderr",
     "output_type": "stream",
     "text": [
      "/home/sudoh/anaconda3/lib/python3.6/site-packages/statsmodels/compat/pandas.py:56: FutureWarning: The pandas.core.datetools module is deprecated and will be removed in a future version. Please use the pandas.tseries module instead.\n",
      "  from pandas.core import datetools\n"
     ]
    }
   ],
   "source": [
    "import numpy as np\n",
    "import pandas as pd\n",
    "import matplotlib\n",
    "import matplotlib.pyplot as plt\n",
    "from sklearn import linear_model\n",
    "from sklearn.preprocessing import PolynomialFeatures\n",
    "from sklearn.neighbors import KNeighborsClassifier\n",
    "from sklearn.model_selection import cross_val_score\n",
    "from sklearn.tree import export_graphviz\n",
    "from sklearn.neighbors import KNeighborsRegressor\n",
    "from IPython.display import display\n",
    "from sklearn.ensemble import RandomForestRegressor\n",
    "from sklearn.metrics import r2_score\n",
    "import statsmodels.api as sm\n",
    "from sklearn.preprocessing import PolynomialFeatures\n",
    "from sklearn.linear_model import Ridge\n",
    "from sklearn.linear_model import Lasso\n",
    "from sklearn.linear_model import RidgeCV\n",
    "from sklearn.linear_model import LassoCV\n",
    "import operator\n",
    "import warnings\n",
    "warnings.filterwarnings('ignore')\n",
    "%matplotlib inline"
   ]
  },
  {
   "cell_type": "code",
   "execution_count": 3,
   "metadata": {},
   "outputs": [],
   "source": [
    "pdg = pd.read_csv('DatasetGP.csv')"
   ]
  },
  {
   "cell_type": "code",
   "execution_count": 4,
   "metadata": {},
   "outputs": [
    {
     "data": {
      "text/html": [
       "<div>\n",
       "<style>\n",
       "    .dataframe thead tr:only-child th {\n",
       "        text-align: right;\n",
       "    }\n",
       "\n",
       "    .dataframe thead th {\n",
       "        text-align: left;\n",
       "    }\n",
       "\n",
       "    .dataframe tbody tr th {\n",
       "        vertical-align: top;\n",
       "    }\n",
       "</style>\n",
       "<table border=\"1\" class=\"dataframe\">\n",
       "  <thead>\n",
       "    <tr style=\"text-align: right;\">\n",
       "      <th></th>\n",
       "      <th>Time</th>\n",
       "      <th>Flowrate</th>\n",
       "      <th>Pressure</th>\n",
       "    </tr>\n",
       "  </thead>\n",
       "  <tbody>\n",
       "    <tr>\n",
       "      <th>0</th>\n",
       "      <td>505.524861</td>\n",
       "      <td>23034.7066</td>\n",
       "      <td>8213.8599</td>\n",
       "    </tr>\n",
       "    <tr>\n",
       "      <th>1</th>\n",
       "      <td>505.947361</td>\n",
       "      <td>23035.3008</td>\n",
       "      <td>8213.7629</td>\n",
       "    </tr>\n",
       "    <tr>\n",
       "      <th>2</th>\n",
       "      <td>506.369861</td>\n",
       "      <td>23035.1155</td>\n",
       "      <td>8213.5498</td>\n",
       "    </tr>\n",
       "    <tr>\n",
       "      <th>3</th>\n",
       "      <td>506.792361</td>\n",
       "      <td>23039.9866</td>\n",
       "      <td>8213.4960</td>\n",
       "    </tr>\n",
       "    <tr>\n",
       "      <th>4</th>\n",
       "      <td>507.214861</td>\n",
       "      <td>23035.9354</td>\n",
       "      <td>8213.3491</td>\n",
       "    </tr>\n",
       "  </tbody>\n",
       "</table>\n",
       "</div>"
      ],
      "text/plain": [
       "         Time    Flowrate   Pressure\n",
       "0  505.524861  23034.7066  8213.8599\n",
       "1  505.947361  23035.3008  8213.7629\n",
       "2  506.369861  23035.1155  8213.5498\n",
       "3  506.792361  23039.9866  8213.4960\n",
       "4  507.214861  23035.9354  8213.3491"
      ]
     },
     "execution_count": 4,
     "metadata": {},
     "output_type": "execute_result"
    }
   ],
   "source": [
    "pdg.head()"
   ]
  },
  {
   "cell_type": "code",
   "execution_count": 5,
   "metadata": {},
   "outputs": [
    {
     "data": {
      "text/plain": [
       "600"
      ]
     },
     "execution_count": 5,
     "metadata": {},
     "output_type": "execute_result"
    }
   ],
   "source": [
    "len(pdg)"
   ]
  },
  {
   "cell_type": "code",
   "execution_count": 46,
   "metadata": {
    "collapsed": true
   },
   "outputs": [],
   "source": [
    "#Adding noise to the dataset\n",
    "mu, sigma = 0, 0.5\n",
    "np.random.seed(9001)\n",
    "noise = np.random.normal(mu, sigma, pdg.shape)"
   ]
  },
  {
   "cell_type": "code",
   "execution_count": 47,
   "metadata": {},
   "outputs": [
    {
     "data": {
      "text/plain": [
       "array([[ 0.10037256,  0.42968642,  0.78973455],\n",
       "       [ 0.00617719, -0.024142  ,  0.41346036],\n",
       "       [ 0.41510447,  0.31159223, -0.08134143],\n",
       "       ..., \n",
       "       [-0.4862097 , -0.15597618,  0.28467094],\n",
       "       [ 0.24077192,  0.00593319, -0.28659416],\n",
       "       [ 1.0599004 , -0.2654972 , -0.22825041]])"
      ]
     },
     "execution_count": 47,
     "metadata": {},
     "output_type": "execute_result"
    }
   ],
   "source": [
    "noise"
   ]
  },
  {
   "cell_type": "code",
   "execution_count": 48,
   "metadata": {},
   "outputs": [],
   "source": [
    "Flowrate_noise = pdg['Flowrate'].values + noise[:,1]\n",
    "Pressure_noise = pdg['Pressure'].values + noise[:,2]\n",
    "Flowrate_noise = pd.DataFrame(Flowrate_noise)\n",
    "Pressure_noise = pd.DataFrame(Pressure_noise)"
   ]
  },
  {
   "cell_type": "code",
   "execution_count": 49,
   "metadata": {},
   "outputs": [],
   "source": [
    "pdg_df = pdg.assign(Flowrate_noise = Flowrate_noise.values, Pressure_noise = Pressure_noise.values)"
   ]
  },
  {
   "cell_type": "code",
   "execution_count": 50,
   "metadata": {},
   "outputs": [
    {
     "data": {
      "text/html": [
       "<div>\n",
       "<style>\n",
       "    .dataframe thead tr:only-child th {\n",
       "        text-align: right;\n",
       "    }\n",
       "\n",
       "    .dataframe thead th {\n",
       "        text-align: left;\n",
       "    }\n",
       "\n",
       "    .dataframe tbody tr th {\n",
       "        vertical-align: top;\n",
       "    }\n",
       "</style>\n",
       "<table border=\"1\" class=\"dataframe\">\n",
       "  <thead>\n",
       "    <tr style=\"text-align: right;\">\n",
       "      <th></th>\n",
       "      <th>Time</th>\n",
       "      <th>Flowrate</th>\n",
       "      <th>Pressure</th>\n",
       "      <th>Flowrate_noise</th>\n",
       "      <th>Pressure_noise</th>\n",
       "    </tr>\n",
       "  </thead>\n",
       "  <tbody>\n",
       "    <tr>\n",
       "      <th>0</th>\n",
       "      <td>505.524861</td>\n",
       "      <td>23034.7066</td>\n",
       "      <td>8213.8599</td>\n",
       "      <td>23035.136286</td>\n",
       "      <td>8214.649635</td>\n",
       "    </tr>\n",
       "    <tr>\n",
       "      <th>1</th>\n",
       "      <td>505.947361</td>\n",
       "      <td>23035.3008</td>\n",
       "      <td>8213.7629</td>\n",
       "      <td>23035.276658</td>\n",
       "      <td>8214.176360</td>\n",
       "    </tr>\n",
       "    <tr>\n",
       "      <th>2</th>\n",
       "      <td>506.369861</td>\n",
       "      <td>23035.1155</td>\n",
       "      <td>8213.5498</td>\n",
       "      <td>23035.427092</td>\n",
       "      <td>8213.468459</td>\n",
       "    </tr>\n",
       "    <tr>\n",
       "      <th>3</th>\n",
       "      <td>506.792361</td>\n",
       "      <td>23039.9866</td>\n",
       "      <td>8213.4960</td>\n",
       "      <td>23039.680954</td>\n",
       "      <td>8212.567950</td>\n",
       "    </tr>\n",
       "    <tr>\n",
       "      <th>4</th>\n",
       "      <td>507.214861</td>\n",
       "      <td>23035.9354</td>\n",
       "      <td>8213.3491</td>\n",
       "      <td>23035.846790</td>\n",
       "      <td>8213.543383</td>\n",
       "    </tr>\n",
       "  </tbody>\n",
       "</table>\n",
       "</div>"
      ],
      "text/plain": [
       "         Time    Flowrate   Pressure  Flowrate_noise  Pressure_noise\n",
       "0  505.524861  23034.7066  8213.8599    23035.136286     8214.649635\n",
       "1  505.947361  23035.3008  8213.7629    23035.276658     8214.176360\n",
       "2  506.369861  23035.1155  8213.5498    23035.427092     8213.468459\n",
       "3  506.792361  23039.9866  8213.4960    23039.680954     8212.567950\n",
       "4  507.214861  23035.9354  8213.3491    23035.846790     8213.543383"
      ]
     },
     "execution_count": 50,
     "metadata": {},
     "output_type": "execute_result"
    }
   ],
   "source": [
    "pdg_df.head()"
   ]
  },
  {
   "cell_type": "code",
   "execution_count": 56,
   "metadata": {},
   "outputs": [
    {
     "data": {
      "image/png": "[encoded data removed]",
      "text/plain": [
       "<matplotlib.figure.Figure at 0x7f2a5747e588>"
      ]
     },
     "metadata": {},
     "output_type": "display_data"
    }
   ],
   "source": [
    "plt.figure(figsize = (20,7))\n",
    "plt.scatter(pdg_df['Time'], pdg_df['Flowrate'], color = '#17becf')\n",
    "plt.xlabel('Time (hours)')\n",
    "plt.ylabel('Flowrate (STB/d)')\n",
    "#plt.title('')\n",
    "plt.tight_layout()\n",
    "#plt.savefig('num_tracks.png')"
   ]
  },
  {
   "cell_type": "code",
   "execution_count": 57,
   "metadata": {},
   "outputs": [
    {
     "data": {
      "image/png": "[encoded data removed]",
      "text/plain": [
       "<matplotlib.figure.Figure at 0x7f2a573ff208>"
      ]
     },
     "metadata": {},
     "output_type": "display_data"
    }
   ],
   "source": [
    "plt.figure(figsize = (20,7))\n",
    "plt.scatter(pdg_df['Time'], pdg_df['Pressure'], color = '#17becf')\n",
    "plt.xlabel('Time (hours)')\n",
    "plt.ylabel('Pressure (psi)')\n",
    "#plt.title('')\n",
    "plt.tight_layout()\n",
    "#plt.savefig('num_tracks.png')"
   ]
  },
  {
   "cell_type": "code",
   "execution_count": 60,
   "metadata": {
    "collapsed": true
   },
   "outputs": [],
   "source": [
    "train = pdg_df.head(450)"
   ]
  },
  {
   "cell_type": "code",
   "execution_count": 65,
   "metadata": {},
   "outputs": [
    {
     "data": {
      "text/html": [
       "<div>\n",
       "<style>\n",
       "    .dataframe thead tr:only-child th {\n",
       "        text-align: right;\n",
       "    }\n",
       "\n",
       "    .dataframe thead th {\n",
       "        text-align: left;\n",
       "    }\n",
       "\n",
       "    .dataframe tbody tr th {\n",
       "        vertical-align: top;\n",
       "    }\n",
       "</style>\n",
       "<table border=\"1\" class=\"dataframe\">\n",
       "  <thead>\n",
       "    <tr style=\"text-align: right;\">\n",
       "      <th></th>\n",
       "      <th>Time</th>\n",
       "      <th>Flowrate</th>\n",
       "      <th>Pressure</th>\n",
       "      <th>Flowrate_noise</th>\n",
       "      <th>Pressure_noise</th>\n",
       "    </tr>\n",
       "  </thead>\n",
       "  <tbody>\n",
       "    <tr>\n",
       "      <th>445</th>\n",
       "      <td>693.526527</td>\n",
       "      <td>11783.5162</td>\n",
       "      <td>8667.5232</td>\n",
       "      <td>11783.423967</td>\n",
       "      <td>8666.948135</td>\n",
       "    </tr>\n",
       "    <tr>\n",
       "      <th>446</th>\n",
       "      <td>693.949027</td>\n",
       "      <td>11781.6806</td>\n",
       "      <td>8667.4733</td>\n",
       "      <td>11782.299159</td>\n",
       "      <td>8667.160204</td>\n",
       "    </tr>\n",
       "    <tr>\n",
       "      <th>447</th>\n",
       "      <td>694.371527</td>\n",
       "      <td>11782.9325</td>\n",
       "      <td>8667.4090</td>\n",
       "      <td>11783.122186</td>\n",
       "      <td>8667.123746</td>\n",
       "    </tr>\n",
       "    <tr>\n",
       "      <th>448</th>\n",
       "      <td>694.794027</td>\n",
       "      <td>12598.7405</td>\n",
       "      <td>8645.0775</td>\n",
       "      <td>12598.637904</td>\n",
       "      <td>8644.998190</td>\n",
       "    </tr>\n",
       "    <tr>\n",
       "      <th>449</th>\n",
       "      <td>695.216527</td>\n",
       "      <td>13145.5440</td>\n",
       "      <td>8628.3773</td>\n",
       "      <td>13145.374117</td>\n",
       "      <td>8629.323447</td>\n",
       "    </tr>\n",
       "  </tbody>\n",
       "</table>\n",
       "</div>"
      ],
      "text/plain": [
       "           Time    Flowrate   Pressure  Flowrate_noise  Pressure_noise\n",
       "445  693.526527  11783.5162  8667.5232    11783.423967     8666.948135\n",
       "446  693.949027  11781.6806  8667.4733    11782.299159     8667.160204\n",
       "447  694.371527  11782.9325  8667.4090    11783.122186     8667.123746\n",
       "448  694.794027  12598.7405  8645.0775    12598.637904     8644.998190\n",
       "449  695.216527  13145.5440  8628.3773    13145.374117     8629.323447"
      ]
     },
     "execution_count": 65,
     "metadata": {},
     "output_type": "execute_result"
    }
   ],
   "source": [
    "train.tail()"
   ]
  },
  {
   "cell_type": "code",
   "execution_count": 63,
   "metadata": {},
   "outputs": [],
   "source": [
    "test = pdg_df.tail(150)"
   ]
  },
  {
   "cell_type": "code",
   "execution_count": 64,
   "metadata": {},
   "outputs": [
    {
     "data": {
      "text/html": [
       "<div>\n",
       "<style>\n",
       "    .dataframe thead tr:only-child th {\n",
       "        text-align: right;\n",
       "    }\n",
       "\n",
       "    .dataframe thead th {\n",
       "        text-align: left;\n",
       "    }\n",
       "\n",
       "    .dataframe tbody tr th {\n",
       "        vertical-align: top;\n",
       "    }\n",
       "</style>\n",
       "<table border=\"1\" class=\"dataframe\">\n",
       "  <thead>\n",
       "    <tr style=\"text-align: right;\">\n",
       "      <th></th>\n",
       "      <th>Time</th>\n",
       "      <th>Flowrate</th>\n",
       "      <th>Pressure</th>\n",
       "      <th>Flowrate_noise</th>\n",
       "      <th>Pressure_noise</th>\n",
       "    </tr>\n",
       "  </thead>\n",
       "  <tbody>\n",
       "    <tr>\n",
       "      <th>450</th>\n",
       "      <td>695.639027</td>\n",
       "      <td>13191.0346</td>\n",
       "      <td>8626.0579</td>\n",
       "      <td>13190.891269</td>\n",
       "      <td>8626.945806</td>\n",
       "    </tr>\n",
       "    <tr>\n",
       "      <th>451</th>\n",
       "      <td>696.061527</td>\n",
       "      <td>13190.6150</td>\n",
       "      <td>8625.7085</td>\n",
       "      <td>13190.705276</td>\n",
       "      <td>8625.237619</td>\n",
       "    </tr>\n",
       "    <tr>\n",
       "      <th>452</th>\n",
       "      <td>696.484027</td>\n",
       "      <td>13186.1510</td>\n",
       "      <td>8625.1959</td>\n",
       "      <td>13186.210759</td>\n",
       "      <td>8626.320031</td>\n",
       "    </tr>\n",
       "    <tr>\n",
       "      <th>453</th>\n",
       "      <td>696.906527</td>\n",
       "      <td>13185.1718</td>\n",
       "      <td>8624.9885</td>\n",
       "      <td>13185.622858</td>\n",
       "      <td>8624.129329</td>\n",
       "    </tr>\n",
       "    <tr>\n",
       "      <th>454</th>\n",
       "      <td>697.329027</td>\n",
       "      <td>13182.2957</td>\n",
       "      <td>8624.6938</td>\n",
       "      <td>13182.462681</td>\n",
       "      <td>8625.292883</td>\n",
       "    </tr>\n",
       "  </tbody>\n",
       "</table>\n",
       "</div>"
      ],
      "text/plain": [
       "           Time    Flowrate   Pressure  Flowrate_noise  Pressure_noise\n",
       "450  695.639027  13191.0346  8626.0579    13190.891269     8626.945806\n",
       "451  696.061527  13190.6150  8625.7085    13190.705276     8625.237619\n",
       "452  696.484027  13186.1510  8625.1959    13186.210759     8626.320031\n",
       "453  696.906527  13185.1718  8624.9885    13185.622858     8624.129329\n",
       "454  697.329027  13182.2957  8624.6938    13182.462681     8625.292883"
      ]
     },
     "execution_count": 64,
     "metadata": {},
     "output_type": "execute_result"
    }
   ],
   "source": [
    "test.head()"
   ]
  },
  {
   "cell_type": "markdown",
   "metadata": {},
   "source": [
    "## Building our predictive model"
   ]
  },
  {
   "cell_type": "code",
   "execution_count": 66,
   "metadata": {
    "collapsed": true
   },
   "outputs": [],
   "source": [
    "# get variables\n",
    "x_train = train.iloc[:,0:1]\n",
    "y_train = train.iloc[:,2]\n",
    "\n",
    "x_test = test.iloc[:,0:1]\n",
    "y_test = test.iloc[:,2]"
   ]
  },
  {
   "cell_type": "markdown",
   "metadata": {},
   "source": [
    "## Building our base model\n",
    "\n",
    "## Linear regression model"
   ]
  },
  {
   "cell_type": "code",
   "execution_count": 68,
   "metadata": {},
   "outputs": [
    {
     "name": "stdout",
     "output_type": "stream",
     "text": [
      "R^2 Values for Train, Test Using Linear Regression: 0.418131684757 -1124.99028837\n"
     ]
    }
   ],
   "source": [
    "x_train2 = sm.add_constant(x_train.values)\n",
    "model = sm.OLS(y_train.values, x_train2)\n",
    "results = model.fit()\n",
    "\n",
    "y_hat_train = results.predict(x_train2)\n",
    "\n",
    "# test case\n",
    "x_test2 = sm.add_constant(x_test.values)\n",
    "y_hat_test = results.predict(x_test2)\n",
    "\n",
    "r2_score_train = r2_score(y_train, y_hat_train) \n",
    "r2_score_test = r2_score(y_test, y_hat_test)\n",
    "\n",
    "print('R^2 Values for Train, Test Using Linear Regression:', r2_score_train, r2_score_test)"
   ]
  },
  {
   "cell_type": "code",
   "execution_count": 79,
   "metadata": {},
   "outputs": [
    {
     "data": {
      "image/png": "[encoded data removed]",
      "text/plain": [
       "<matplotlib.figure.Figure at 0x7f2a569b2a58>"
      ]
     },
     "metadata": {},
     "output_type": "display_data"
    }
   ],
   "source": [
    "from statsmodels.graphics.api import abline_plot\n",
    "fig = plt.figure(figsize = (20,7))\n",
    "ax = fig.add_subplot(111, ylabel='Pressure (psi)', xlabel='Time (hours)')\n",
    "ax.plot(train['Time'], train['Pressure'], color = '#17becf')\n",
    "#plt.xlabel('Time (hours)')\n",
    "#plt.ylabel('Pressure (psi)')\n",
    "#plt.title('')\n",
    "#fig = abline_plot(model_results = results, ax=ax)\n",
    "plt.tight_layout()\n",
    "#plt.savefig('num_tracks.png')"
   ]
  },
  {
   "cell_type": "code",
   "execution_count": null,
   "metadata": {
    "collapsed": true
   },
   "outputs": [],
   "source": []
  }
 ],
 "metadata": {
  "kernelspec": {
   "display_name": "Python 3",
   "language": "python",
   "name": "python3"
  },
  "language_info": {
   "codemirror_mode": {
    "name": "ipython",
    "version": 3
   },
   "file_extension": ".py",
   "mimetype": "text/x-python",
   "name": "python",
   "nbconvert_exporter": "python",
   "pygments_lexer": "ipython3",
   "version": "3.6.3"
  }
 },
 "nbformat": 4,
 "nbformat_minor": 2
}
